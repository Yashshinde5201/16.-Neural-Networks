{
 "cells": [
  {
   "cell_type": "code",
   "execution_count": 3,
   "id": "8dd6a0e9",
   "metadata": {},
   "outputs": [],
   "source": [
    "import numpy as np\n",
    "import pandas as pd\n",
    "import tensorflow as tf\n",
    "import seaborn as sns\n",
    "from sklearn.preprocessing import LabelEncoder\n",
    "from sklearn.preprocessing import StandardScaler\n",
    "from sklearn import preprocessing\n",
    "from matplotlib import pyplot as plt\n",
    "import matplotlib.pyplot as plt"
   ]
  },
  {
   "cell_type": "markdown",
   "id": "3261f84e",
   "metadata": {},
   "source": [
    "# __1 - Business Problem__  \n",
    "___PREDICT THE BURNED AREA OF FOREST FIRES WITH NEURAL NETWORKS___  "
   ]
  },
  {
   "cell_type": "markdown",
   "id": "a65c3a1e",
   "metadata": {},
   "source": [
    "# __2 - Data collection and description__ "
   ]
  },
  {
   "cell_type": "code",
   "execution_count": 4,
   "id": "0c26c30d",
   "metadata": {},
   "outputs": [],
   "source": [
    "dataset = pd.read_csv('forestfires.csv')"
   ]
  },
  {
   "cell_type": "markdown",
   "id": "9d2e10c2",
   "metadata": {},
   "source": [
    "since we have encoded form of columns 'month' and 'day',so we can drop both columns"
   ]
  },
  {
   "cell_type": "code",
   "execution_count": 5,
   "id": "4b8c9c9a",
   "metadata": {},
   "outputs": [],
   "source": [
    "dataset.drop([\"month\",\"day\"],axis=1,inplace = True)"
   ]
  },
  {
   "cell_type": "code",
   "execution_count": 6,
   "id": "58c51ce3",
   "metadata": {},
   "outputs": [
    {
     "data": {
      "text/html": [
       "<div>\n",
       "<style scoped>\n",
       "    .dataframe tbody tr th:only-of-type {\n",
       "        vertical-align: middle;\n",
       "    }\n",
       "\n",
       "    .dataframe tbody tr th {\n",
       "        vertical-align: top;\n",
       "    }\n",
       "\n",
       "    .dataframe thead th {\n",
       "        text-align: right;\n",
       "    }\n",
       "</style>\n",
       "<table border=\"1\" class=\"dataframe\">\n",
       "  <thead>\n",
       "    <tr style=\"text-align: right;\">\n",
       "      <th></th>\n",
       "      <th>FFMC</th>\n",
       "      <th>DMC</th>\n",
       "      <th>DC</th>\n",
       "      <th>ISI</th>\n",
       "      <th>temp</th>\n",
       "      <th>RH</th>\n",
       "      <th>wind</th>\n",
       "      <th>rain</th>\n",
       "      <th>area</th>\n",
       "      <th>dayfri</th>\n",
       "      <th>...</th>\n",
       "      <th>monthfeb</th>\n",
       "      <th>monthjan</th>\n",
       "      <th>monthjul</th>\n",
       "      <th>monthjun</th>\n",
       "      <th>monthmar</th>\n",
       "      <th>monthmay</th>\n",
       "      <th>monthnov</th>\n",
       "      <th>monthoct</th>\n",
       "      <th>monthsep</th>\n",
       "      <th>size_category</th>\n",
       "    </tr>\n",
       "  </thead>\n",
       "  <tbody>\n",
       "    <tr>\n",
       "      <th>0</th>\n",
       "      <td>86.2</td>\n",
       "      <td>26.2</td>\n",
       "      <td>94.3</td>\n",
       "      <td>5.1</td>\n",
       "      <td>8.2</td>\n",
       "      <td>51</td>\n",
       "      <td>6.7</td>\n",
       "      <td>0.0</td>\n",
       "      <td>0.0</td>\n",
       "      <td>1</td>\n",
       "      <td>...</td>\n",
       "      <td>0</td>\n",
       "      <td>0</td>\n",
       "      <td>0</td>\n",
       "      <td>0</td>\n",
       "      <td>1</td>\n",
       "      <td>0</td>\n",
       "      <td>0</td>\n",
       "      <td>0</td>\n",
       "      <td>0</td>\n",
       "      <td>small</td>\n",
       "    </tr>\n",
       "    <tr>\n",
       "      <th>1</th>\n",
       "      <td>90.6</td>\n",
       "      <td>35.4</td>\n",
       "      <td>669.1</td>\n",
       "      <td>6.7</td>\n",
       "      <td>18.0</td>\n",
       "      <td>33</td>\n",
       "      <td>0.9</td>\n",
       "      <td>0.0</td>\n",
       "      <td>0.0</td>\n",
       "      <td>0</td>\n",
       "      <td>...</td>\n",
       "      <td>0</td>\n",
       "      <td>0</td>\n",
       "      <td>0</td>\n",
       "      <td>0</td>\n",
       "      <td>0</td>\n",
       "      <td>0</td>\n",
       "      <td>0</td>\n",
       "      <td>1</td>\n",
       "      <td>0</td>\n",
       "      <td>small</td>\n",
       "    </tr>\n",
       "    <tr>\n",
       "      <th>2</th>\n",
       "      <td>90.6</td>\n",
       "      <td>43.7</td>\n",
       "      <td>686.9</td>\n",
       "      <td>6.7</td>\n",
       "      <td>14.6</td>\n",
       "      <td>33</td>\n",
       "      <td>1.3</td>\n",
       "      <td>0.0</td>\n",
       "      <td>0.0</td>\n",
       "      <td>0</td>\n",
       "      <td>...</td>\n",
       "      <td>0</td>\n",
       "      <td>0</td>\n",
       "      <td>0</td>\n",
       "      <td>0</td>\n",
       "      <td>0</td>\n",
       "      <td>0</td>\n",
       "      <td>0</td>\n",
       "      <td>1</td>\n",
       "      <td>0</td>\n",
       "      <td>small</td>\n",
       "    </tr>\n",
       "    <tr>\n",
       "      <th>3</th>\n",
       "      <td>91.7</td>\n",
       "      <td>33.3</td>\n",
       "      <td>77.5</td>\n",
       "      <td>9.0</td>\n",
       "      <td>8.3</td>\n",
       "      <td>97</td>\n",
       "      <td>4.0</td>\n",
       "      <td>0.2</td>\n",
       "      <td>0.0</td>\n",
       "      <td>1</td>\n",
       "      <td>...</td>\n",
       "      <td>0</td>\n",
       "      <td>0</td>\n",
       "      <td>0</td>\n",
       "      <td>0</td>\n",
       "      <td>1</td>\n",
       "      <td>0</td>\n",
       "      <td>0</td>\n",
       "      <td>0</td>\n",
       "      <td>0</td>\n",
       "      <td>small</td>\n",
       "    </tr>\n",
       "    <tr>\n",
       "      <th>4</th>\n",
       "      <td>89.3</td>\n",
       "      <td>51.3</td>\n",
       "      <td>102.2</td>\n",
       "      <td>9.6</td>\n",
       "      <td>11.4</td>\n",
       "      <td>99</td>\n",
       "      <td>1.8</td>\n",
       "      <td>0.0</td>\n",
       "      <td>0.0</td>\n",
       "      <td>0</td>\n",
       "      <td>...</td>\n",
       "      <td>0</td>\n",
       "      <td>0</td>\n",
       "      <td>0</td>\n",
       "      <td>0</td>\n",
       "      <td>1</td>\n",
       "      <td>0</td>\n",
       "      <td>0</td>\n",
       "      <td>0</td>\n",
       "      <td>0</td>\n",
       "      <td>small</td>\n",
       "    </tr>\n",
       "  </tbody>\n",
       "</table>\n",
       "<p>5 rows × 29 columns</p>\n",
       "</div>"
      ],
      "text/plain": [
       "   FFMC   DMC     DC  ISI  temp  RH  wind  rain  area  dayfri  ...  monthfeb  \\\n",
       "0  86.2  26.2   94.3  5.1   8.2  51   6.7   0.0   0.0       1  ...         0   \n",
       "1  90.6  35.4  669.1  6.7  18.0  33   0.9   0.0   0.0       0  ...         0   \n",
       "2  90.6  43.7  686.9  6.7  14.6  33   1.3   0.0   0.0       0  ...         0   \n",
       "3  91.7  33.3   77.5  9.0   8.3  97   4.0   0.2   0.0       1  ...         0   \n",
       "4  89.3  51.3  102.2  9.6  11.4  99   1.8   0.0   0.0       0  ...         0   \n",
       "\n",
       "   monthjan  monthjul  monthjun  monthmar  monthmay  monthnov  monthoct  \\\n",
       "0         0         0         0         1         0         0         0   \n",
       "1         0         0         0         0         0         0         1   \n",
       "2         0         0         0         0         0         0         1   \n",
       "3         0         0         0         1         0         0         0   \n",
       "4         0         0         0         1         0         0         0   \n",
       "\n",
       "   monthsep  size_category  \n",
       "0         0          small  \n",
       "1         0          small  \n",
       "2         0          small  \n",
       "3         0          small  \n",
       "4         0          small  \n",
       "\n",
       "[5 rows x 29 columns]"
      ]
     },
     "execution_count": 6,
     "metadata": {},
     "output_type": "execute_result"
    }
   ],
   "source": [
    "dataset.head()"
   ]
  },
  {
   "cell_type": "code",
   "execution_count": 7,
   "id": "1ea7b1e2",
   "metadata": {},
   "outputs": [
    {
     "data": {
      "text/plain": [
       "small    378\n",
       "large    139\n",
       "Name: size_category, dtype: int64"
      ]
     },
     "execution_count": 7,
     "metadata": {},
     "output_type": "execute_result"
    }
   ],
   "source": [
    "dataset[\"size_category\"].value_counts()"
   ]
  },
  {
   "cell_type": "code",
   "execution_count": 8,
   "id": "d1ef43d8",
   "metadata": {},
   "outputs": [
    {
     "data": {
      "text/plain": [
       "(517, 29)"
      ]
     },
     "execution_count": 8,
     "metadata": {},
     "output_type": "execute_result"
    }
   ],
   "source": [
    "dataset.shape"
   ]
  },
  {
   "cell_type": "markdown",
   "id": "098dc91f",
   "metadata": {},
   "source": [
    "- dataset has 517 rows and 31 columns"
   ]
  },
  {
   "cell_type": "code",
   "execution_count": 9,
   "id": "481ac6f5",
   "metadata": {},
   "outputs": [
    {
     "data": {
      "text/plain": [
       "FFMC             0\n",
       "DMC              0\n",
       "DC               0\n",
       "ISI              0\n",
       "temp             0\n",
       "RH               0\n",
       "wind             0\n",
       "rain             0\n",
       "area             0\n",
       "dayfri           0\n",
       "daymon           0\n",
       "daysat           0\n",
       "daysun           0\n",
       "daythu           0\n",
       "daytue           0\n",
       "daywed           0\n",
       "monthapr         0\n",
       "monthaug         0\n",
       "monthdec         0\n",
       "monthfeb         0\n",
       "monthjan         0\n",
       "monthjul         0\n",
       "monthjun         0\n",
       "monthmar         0\n",
       "monthmay         0\n",
       "monthnov         0\n",
       "monthoct         0\n",
       "monthsep         0\n",
       "size_category    0\n",
       "dtype: int64"
      ]
     },
     "execution_count": 9,
     "metadata": {},
     "output_type": "execute_result"
    }
   ],
   "source": [
    "dataset.isnull().sum()"
   ]
  },
  {
   "cell_type": "markdown",
   "id": "c3cb7c04",
   "metadata": {},
   "source": [
    "There are no null value in our dataset"
   ]
  },
  {
   "cell_type": "code",
   "execution_count": 10,
   "id": "95e74a71",
   "metadata": {
    "scrolled": false
   },
   "outputs": [
    {
     "data": {
      "text/html": [
       "<div>\n",
       "<style scoped>\n",
       "    .dataframe tbody tr th:only-of-type {\n",
       "        vertical-align: middle;\n",
       "    }\n",
       "\n",
       "    .dataframe tbody tr th {\n",
       "        vertical-align: top;\n",
       "    }\n",
       "\n",
       "    .dataframe thead th {\n",
       "        text-align: right;\n",
       "    }\n",
       "</style>\n",
       "<table border=\"1\" class=\"dataframe\">\n",
       "  <thead>\n",
       "    <tr style=\"text-align: right;\">\n",
       "      <th></th>\n",
       "      <th>count</th>\n",
       "      <th>mean</th>\n",
       "      <th>std</th>\n",
       "      <th>min</th>\n",
       "      <th>25%</th>\n",
       "      <th>50%</th>\n",
       "      <th>75%</th>\n",
       "      <th>max</th>\n",
       "    </tr>\n",
       "  </thead>\n",
       "  <tbody>\n",
       "    <tr>\n",
       "      <th>FFMC</th>\n",
       "      <td>517.0</td>\n",
       "      <td>90.644681</td>\n",
       "      <td>5.520111</td>\n",
       "      <td>18.7</td>\n",
       "      <td>90.2</td>\n",
       "      <td>91.60</td>\n",
       "      <td>92.90</td>\n",
       "      <td>96.20</td>\n",
       "    </tr>\n",
       "    <tr>\n",
       "      <th>DMC</th>\n",
       "      <td>517.0</td>\n",
       "      <td>110.872340</td>\n",
       "      <td>64.046482</td>\n",
       "      <td>1.1</td>\n",
       "      <td>68.6</td>\n",
       "      <td>108.30</td>\n",
       "      <td>142.40</td>\n",
       "      <td>291.30</td>\n",
       "    </tr>\n",
       "    <tr>\n",
       "      <th>DC</th>\n",
       "      <td>517.0</td>\n",
       "      <td>547.940039</td>\n",
       "      <td>248.066192</td>\n",
       "      <td>7.9</td>\n",
       "      <td>437.7</td>\n",
       "      <td>664.20</td>\n",
       "      <td>713.90</td>\n",
       "      <td>860.60</td>\n",
       "    </tr>\n",
       "    <tr>\n",
       "      <th>ISI</th>\n",
       "      <td>517.0</td>\n",
       "      <td>9.021663</td>\n",
       "      <td>4.559477</td>\n",
       "      <td>0.0</td>\n",
       "      <td>6.5</td>\n",
       "      <td>8.40</td>\n",
       "      <td>10.80</td>\n",
       "      <td>56.10</td>\n",
       "    </tr>\n",
       "    <tr>\n",
       "      <th>temp</th>\n",
       "      <td>517.0</td>\n",
       "      <td>18.889168</td>\n",
       "      <td>5.806625</td>\n",
       "      <td>2.2</td>\n",
       "      <td>15.5</td>\n",
       "      <td>19.30</td>\n",
       "      <td>22.80</td>\n",
       "      <td>33.30</td>\n",
       "    </tr>\n",
       "    <tr>\n",
       "      <th>RH</th>\n",
       "      <td>517.0</td>\n",
       "      <td>44.288201</td>\n",
       "      <td>16.317469</td>\n",
       "      <td>15.0</td>\n",
       "      <td>33.0</td>\n",
       "      <td>42.00</td>\n",
       "      <td>53.00</td>\n",
       "      <td>100.00</td>\n",
       "    </tr>\n",
       "    <tr>\n",
       "      <th>wind</th>\n",
       "      <td>517.0</td>\n",
       "      <td>4.017602</td>\n",
       "      <td>1.791653</td>\n",
       "      <td>0.4</td>\n",
       "      <td>2.7</td>\n",
       "      <td>4.00</td>\n",
       "      <td>4.90</td>\n",
       "      <td>9.40</td>\n",
       "    </tr>\n",
       "    <tr>\n",
       "      <th>rain</th>\n",
       "      <td>517.0</td>\n",
       "      <td>0.021663</td>\n",
       "      <td>0.295959</td>\n",
       "      <td>0.0</td>\n",
       "      <td>0.0</td>\n",
       "      <td>0.00</td>\n",
       "      <td>0.00</td>\n",
       "      <td>6.40</td>\n",
       "    </tr>\n",
       "    <tr>\n",
       "      <th>area</th>\n",
       "      <td>517.0</td>\n",
       "      <td>12.847292</td>\n",
       "      <td>63.655818</td>\n",
       "      <td>0.0</td>\n",
       "      <td>0.0</td>\n",
       "      <td>0.52</td>\n",
       "      <td>6.57</td>\n",
       "      <td>1090.84</td>\n",
       "    </tr>\n",
       "    <tr>\n",
       "      <th>dayfri</th>\n",
       "      <td>517.0</td>\n",
       "      <td>0.164410</td>\n",
       "      <td>0.371006</td>\n",
       "      <td>0.0</td>\n",
       "      <td>0.0</td>\n",
       "      <td>0.00</td>\n",
       "      <td>0.00</td>\n",
       "      <td>1.00</td>\n",
       "    </tr>\n",
       "    <tr>\n",
       "      <th>daymon</th>\n",
       "      <td>517.0</td>\n",
       "      <td>0.143133</td>\n",
       "      <td>0.350548</td>\n",
       "      <td>0.0</td>\n",
       "      <td>0.0</td>\n",
       "      <td>0.00</td>\n",
       "      <td>0.00</td>\n",
       "      <td>1.00</td>\n",
       "    </tr>\n",
       "    <tr>\n",
       "      <th>daysat</th>\n",
       "      <td>517.0</td>\n",
       "      <td>0.162476</td>\n",
       "      <td>0.369244</td>\n",
       "      <td>0.0</td>\n",
       "      <td>0.0</td>\n",
       "      <td>0.00</td>\n",
       "      <td>0.00</td>\n",
       "      <td>1.00</td>\n",
       "    </tr>\n",
       "    <tr>\n",
       "      <th>daysun</th>\n",
       "      <td>517.0</td>\n",
       "      <td>0.183752</td>\n",
       "      <td>0.387657</td>\n",
       "      <td>0.0</td>\n",
       "      <td>0.0</td>\n",
       "      <td>0.00</td>\n",
       "      <td>0.00</td>\n",
       "      <td>1.00</td>\n",
       "    </tr>\n",
       "    <tr>\n",
       "      <th>daythu</th>\n",
       "      <td>517.0</td>\n",
       "      <td>0.117988</td>\n",
       "      <td>0.322907</td>\n",
       "      <td>0.0</td>\n",
       "      <td>0.0</td>\n",
       "      <td>0.00</td>\n",
       "      <td>0.00</td>\n",
       "      <td>1.00</td>\n",
       "    </tr>\n",
       "    <tr>\n",
       "      <th>daytue</th>\n",
       "      <td>517.0</td>\n",
       "      <td>0.123791</td>\n",
       "      <td>0.329662</td>\n",
       "      <td>0.0</td>\n",
       "      <td>0.0</td>\n",
       "      <td>0.00</td>\n",
       "      <td>0.00</td>\n",
       "      <td>1.00</td>\n",
       "    </tr>\n",
       "    <tr>\n",
       "      <th>daywed</th>\n",
       "      <td>517.0</td>\n",
       "      <td>0.104449</td>\n",
       "      <td>0.306138</td>\n",
       "      <td>0.0</td>\n",
       "      <td>0.0</td>\n",
       "      <td>0.00</td>\n",
       "      <td>0.00</td>\n",
       "      <td>1.00</td>\n",
       "    </tr>\n",
       "    <tr>\n",
       "      <th>monthapr</th>\n",
       "      <td>517.0</td>\n",
       "      <td>0.017408</td>\n",
       "      <td>0.130913</td>\n",
       "      <td>0.0</td>\n",
       "      <td>0.0</td>\n",
       "      <td>0.00</td>\n",
       "      <td>0.00</td>\n",
       "      <td>1.00</td>\n",
       "    </tr>\n",
       "    <tr>\n",
       "      <th>monthaug</th>\n",
       "      <td>517.0</td>\n",
       "      <td>0.355899</td>\n",
       "      <td>0.479249</td>\n",
       "      <td>0.0</td>\n",
       "      <td>0.0</td>\n",
       "      <td>0.00</td>\n",
       "      <td>1.00</td>\n",
       "      <td>1.00</td>\n",
       "    </tr>\n",
       "    <tr>\n",
       "      <th>monthdec</th>\n",
       "      <td>517.0</td>\n",
       "      <td>0.017408</td>\n",
       "      <td>0.130913</td>\n",
       "      <td>0.0</td>\n",
       "      <td>0.0</td>\n",
       "      <td>0.00</td>\n",
       "      <td>0.00</td>\n",
       "      <td>1.00</td>\n",
       "    </tr>\n",
       "    <tr>\n",
       "      <th>monthfeb</th>\n",
       "      <td>517.0</td>\n",
       "      <td>0.038685</td>\n",
       "      <td>0.193029</td>\n",
       "      <td>0.0</td>\n",
       "      <td>0.0</td>\n",
       "      <td>0.00</td>\n",
       "      <td>0.00</td>\n",
       "      <td>1.00</td>\n",
       "    </tr>\n",
       "    <tr>\n",
       "      <th>monthjan</th>\n",
       "      <td>517.0</td>\n",
       "      <td>0.003868</td>\n",
       "      <td>0.062137</td>\n",
       "      <td>0.0</td>\n",
       "      <td>0.0</td>\n",
       "      <td>0.00</td>\n",
       "      <td>0.00</td>\n",
       "      <td>1.00</td>\n",
       "    </tr>\n",
       "    <tr>\n",
       "      <th>monthjul</th>\n",
       "      <td>517.0</td>\n",
       "      <td>0.061896</td>\n",
       "      <td>0.241199</td>\n",
       "      <td>0.0</td>\n",
       "      <td>0.0</td>\n",
       "      <td>0.00</td>\n",
       "      <td>0.00</td>\n",
       "      <td>1.00</td>\n",
       "    </tr>\n",
       "    <tr>\n",
       "      <th>monthjun</th>\n",
       "      <td>517.0</td>\n",
       "      <td>0.032882</td>\n",
       "      <td>0.178500</td>\n",
       "      <td>0.0</td>\n",
       "      <td>0.0</td>\n",
       "      <td>0.00</td>\n",
       "      <td>0.00</td>\n",
       "      <td>1.00</td>\n",
       "    </tr>\n",
       "    <tr>\n",
       "      <th>monthmar</th>\n",
       "      <td>517.0</td>\n",
       "      <td>0.104449</td>\n",
       "      <td>0.306138</td>\n",
       "      <td>0.0</td>\n",
       "      <td>0.0</td>\n",
       "      <td>0.00</td>\n",
       "      <td>0.00</td>\n",
       "      <td>1.00</td>\n",
       "    </tr>\n",
       "    <tr>\n",
       "      <th>monthmay</th>\n",
       "      <td>517.0</td>\n",
       "      <td>0.003868</td>\n",
       "      <td>0.062137</td>\n",
       "      <td>0.0</td>\n",
       "      <td>0.0</td>\n",
       "      <td>0.00</td>\n",
       "      <td>0.00</td>\n",
       "      <td>1.00</td>\n",
       "    </tr>\n",
       "    <tr>\n",
       "      <th>monthnov</th>\n",
       "      <td>517.0</td>\n",
       "      <td>0.001934</td>\n",
       "      <td>0.043980</td>\n",
       "      <td>0.0</td>\n",
       "      <td>0.0</td>\n",
       "      <td>0.00</td>\n",
       "      <td>0.00</td>\n",
       "      <td>1.00</td>\n",
       "    </tr>\n",
       "    <tr>\n",
       "      <th>monthoct</th>\n",
       "      <td>517.0</td>\n",
       "      <td>0.029014</td>\n",
       "      <td>0.168007</td>\n",
       "      <td>0.0</td>\n",
       "      <td>0.0</td>\n",
       "      <td>0.00</td>\n",
       "      <td>0.00</td>\n",
       "      <td>1.00</td>\n",
       "    </tr>\n",
       "    <tr>\n",
       "      <th>monthsep</th>\n",
       "      <td>517.0</td>\n",
       "      <td>0.332689</td>\n",
       "      <td>0.471632</td>\n",
       "      <td>0.0</td>\n",
       "      <td>0.0</td>\n",
       "      <td>0.00</td>\n",
       "      <td>1.00</td>\n",
       "      <td>1.00</td>\n",
       "    </tr>\n",
       "  </tbody>\n",
       "</table>\n",
       "</div>"
      ],
      "text/plain": [
       "          count        mean         std   min    25%     50%     75%      max\n",
       "FFMC      517.0   90.644681    5.520111  18.7   90.2   91.60   92.90    96.20\n",
       "DMC       517.0  110.872340   64.046482   1.1   68.6  108.30  142.40   291.30\n",
       "DC        517.0  547.940039  248.066192   7.9  437.7  664.20  713.90   860.60\n",
       "ISI       517.0    9.021663    4.559477   0.0    6.5    8.40   10.80    56.10\n",
       "temp      517.0   18.889168    5.806625   2.2   15.5   19.30   22.80    33.30\n",
       "RH        517.0   44.288201   16.317469  15.0   33.0   42.00   53.00   100.00\n",
       "wind      517.0    4.017602    1.791653   0.4    2.7    4.00    4.90     9.40\n",
       "rain      517.0    0.021663    0.295959   0.0    0.0    0.00    0.00     6.40\n",
       "area      517.0   12.847292   63.655818   0.0    0.0    0.52    6.57  1090.84\n",
       "dayfri    517.0    0.164410    0.371006   0.0    0.0    0.00    0.00     1.00\n",
       "daymon    517.0    0.143133    0.350548   0.0    0.0    0.00    0.00     1.00\n",
       "daysat    517.0    0.162476    0.369244   0.0    0.0    0.00    0.00     1.00\n",
       "daysun    517.0    0.183752    0.387657   0.0    0.0    0.00    0.00     1.00\n",
       "daythu    517.0    0.117988    0.322907   0.0    0.0    0.00    0.00     1.00\n",
       "daytue    517.0    0.123791    0.329662   0.0    0.0    0.00    0.00     1.00\n",
       "daywed    517.0    0.104449    0.306138   0.0    0.0    0.00    0.00     1.00\n",
       "monthapr  517.0    0.017408    0.130913   0.0    0.0    0.00    0.00     1.00\n",
       "monthaug  517.0    0.355899    0.479249   0.0    0.0    0.00    1.00     1.00\n",
       "monthdec  517.0    0.017408    0.130913   0.0    0.0    0.00    0.00     1.00\n",
       "monthfeb  517.0    0.038685    0.193029   0.0    0.0    0.00    0.00     1.00\n",
       "monthjan  517.0    0.003868    0.062137   0.0    0.0    0.00    0.00     1.00\n",
       "monthjul  517.0    0.061896    0.241199   0.0    0.0    0.00    0.00     1.00\n",
       "monthjun  517.0    0.032882    0.178500   0.0    0.0    0.00    0.00     1.00\n",
       "monthmar  517.0    0.104449    0.306138   0.0    0.0    0.00    0.00     1.00\n",
       "monthmay  517.0    0.003868    0.062137   0.0    0.0    0.00    0.00     1.00\n",
       "monthnov  517.0    0.001934    0.043980   0.0    0.0    0.00    0.00     1.00\n",
       "monthoct  517.0    0.029014    0.168007   0.0    0.0    0.00    0.00     1.00\n",
       "monthsep  517.0    0.332689    0.471632   0.0    0.0    0.00    1.00     1.00"
      ]
     },
     "execution_count": 10,
     "metadata": {},
     "output_type": "execute_result"
    }
   ],
   "source": [
    "dataset.describe().T"
   ]
  },
  {
   "cell_type": "markdown",
   "id": "3f215fe6",
   "metadata": {},
   "source": [
    "- describe function shows only numerical columns information,Lets check outliers with the help of boxplot\n",
    "The features are not on the same scale. For example wind has a mean of 4 while DC has a mean value of 547. Features should be on the same scale for algorithms such as logistic regression (gradient descent) to converge smoothly. Let's go ahead and check further."
   ]
  },
  {
   "cell_type": "code",
   "execution_count": 29,
   "id": "93e368ea",
   "metadata": {},
   "outputs": [
    {
     "name": "stdout",
     "output_type": "stream",
     "text": [
      "<class 'pandas.core.frame.DataFrame'>\n",
      "RangeIndex: 517 entries, 0 to 516\n",
      "Data columns (total 29 columns):\n",
      " #   Column         Non-Null Count  Dtype  \n",
      "---  ------         --------------  -----  \n",
      " 0   FFMC           517 non-null    float64\n",
      " 1   DMC            517 non-null    float64\n",
      " 2   DC             517 non-null    float64\n",
      " 3   ISI            517 non-null    float64\n",
      " 4   temp           517 non-null    float64\n",
      " 5   RH             517 non-null    int64  \n",
      " 6   wind           517 non-null    float64\n",
      " 7   rain           517 non-null    float64\n",
      " 8   area           517 non-null    float64\n",
      " 9   dayfri         517 non-null    int64  \n",
      " 10  daymon         517 non-null    int64  \n",
      " 11  daysat         517 non-null    int64  \n",
      " 12  daysun         517 non-null    int64  \n",
      " 13  daythu         517 non-null    int64  \n",
      " 14  daytue         517 non-null    int64  \n",
      " 15  daywed         517 non-null    int64  \n",
      " 16  monthapr       517 non-null    int64  \n",
      " 17  monthaug       517 non-null    int64  \n",
      " 18  monthdec       517 non-null    int64  \n",
      " 19  monthfeb       517 non-null    int64  \n",
      " 20  monthjan       517 non-null    int64  \n",
      " 21  monthjul       517 non-null    int64  \n",
      " 22  monthjun       517 non-null    int64  \n",
      " 23  monthmar       517 non-null    int64  \n",
      " 24  monthmay       517 non-null    int64  \n",
      " 25  monthnov       517 non-null    int64  \n",
      " 26  monthoct       517 non-null    int64  \n",
      " 27  monthsep       517 non-null    int64  \n",
      " 28  size_category  517 non-null    int32  \n",
      "dtypes: float64(8), int32(1), int64(20)\n",
      "memory usage: 115.2 KB\n"
     ]
    }
   ],
   "source": [
    "dataset.info()"
   ]
  },
  {
   "cell_type": "markdown",
   "id": "faa10068",
   "metadata": {},
   "source": [
    "- No Missing values and datatype also identified accuretly"
   ]
  },
  {
   "cell_type": "code",
   "execution_count": 31,
   "id": "7cc922e5",
   "metadata": {},
   "outputs": [
    {
     "data": {
      "text/plain": [
       "FFMC             106\n",
       "DMC              215\n",
       "DC               219\n",
       "ISI              119\n",
       "temp             192\n",
       "RH                75\n",
       "wind              21\n",
       "rain               7\n",
       "area             251\n",
       "dayfri             2\n",
       "daymon             2\n",
       "daysat             2\n",
       "daysun             2\n",
       "daythu             2\n",
       "daytue             2\n",
       "daywed             2\n",
       "monthapr           2\n",
       "monthaug           2\n",
       "monthdec           2\n",
       "monthfeb           2\n",
       "monthjan           2\n",
       "monthjul           2\n",
       "monthjun           2\n",
       "monthmar           2\n",
       "monthmay           2\n",
       "monthnov           2\n",
       "monthoct           2\n",
       "monthsep           2\n",
       "size_category      2\n",
       "dtype: int64"
      ]
     },
     "execution_count": 31,
     "metadata": {},
     "output_type": "execute_result"
    }
   ],
   "source": [
    "# checking unique category in each column of dataset\n",
    "dataset.nunique()"
   ]
  },
  {
   "cell_type": "markdown",
   "id": "f3cd95ae",
   "metadata": {},
   "source": [
    "- After checking the first rows of data, we know the following about the features \"size_category\" :\n",
    "\n",
    "They are categorical attributes (object).\n",
    "\n",
    "They have repetitive values.\n",
    "\n",
    "They have several categories.\n",
    "\n",
    "And about All other features :\n",
    "\n",
    "They are Numeriacal attributes (int64 & fload64).\n",
    "\n",
    "They have contineous values."
   ]
  },
  {
   "cell_type": "code",
   "execution_count": 32,
   "id": "f8519d87",
   "metadata": {},
   "outputs": [
    {
     "data": {
      "image/png": "[encoded data removed]",
      "text/plain": [
       "<Figure size 1200x600 with 1 Axes>"
      ]
     },
     "metadata": {},
     "output_type": "display_data"
    }
   ],
   "source": [
    "plt.figure(figsize=(12,6))\n",
    "dataset.boxplot()\n",
    "plt.show();"
   ]
  },
  {
   "cell_type": "markdown",
   "id": "b3004fea",
   "metadata": {},
   "source": [
    "- From the box plot we can see that there are so many outliers,Lets treat one by one"
   ]
  },
  {
   "cell_type": "code",
   "execution_count": 34,
   "id": "59e1154a",
   "metadata": {},
   "outputs": [
    {
     "data": {
      "image/png": "[encoded data removed]",
      "text/plain": [
       "<Figure size 900x500 with 1 Axes>"
      ]
     },
     "metadata": {},
     "output_type": "display_data"
    }
   ],
   "source": [
    "box=plt.boxplot(dataset['FFMC'])\n",
    "plt.show();"
   ]
  },
  {
   "cell_type": "markdown",
   "id": "4b64b45a",
   "metadata": {},
   "source": [
    "- In above box plot , Distribution of data is not normal, its left skewed with so many outliers.we cant drop outliers directly that can drop lots of other information along with it too,so instead of droping all of that outliers we use Winsorization/capping techqniue to replace this outliers value with lower limit value because outliers are in lower limit.\n",
    "\n",
    "- using winsorization with percentile method :-In winsorization above 95 percentile and below 5 percentile are treated as outliers"
   ]
  },
  {
   "cell_type": "code",
   "execution_count": 35,
   "id": "b6af9fc9",
   "metadata": {},
   "outputs": [
    {
     "data": {
      "image/png": "[encoded data removed]",
      "text/plain": [
       "<Figure size 900x500 with 1 Axes>"
      ]
     },
     "metadata": {},
     "output_type": "display_data"
    }
   ],
   "source": [
    "box1=plt.boxplot(dataset['DMC'])\n",
    "plt.show();"
   ]
  },
  {
   "cell_type": "markdown",
   "id": "6f732d30",
   "metadata": {},
   "source": [
    "- DMC distribution has majority data in 55 to 150 range with right skewed and has outliers"
   ]
  },
  {
   "cell_type": "code",
   "execution_count": 36,
   "id": "59c09262",
   "metadata": {},
   "outputs": [
    {
     "data": {
      "image/png": "[encoded data removed]",
      "text/plain": [
       "<Figure size 900x500 with 1 Axes>"
      ]
     },
     "metadata": {},
     "output_type": "display_data"
    }
   ],
   "source": [
    "box2=plt.boxplot(dataset['DC'])\n",
    "plt.show();"
   ]
  },
  {
   "cell_type": "markdown",
   "id": "fb547ab2",
   "metadata": {},
   "source": [
    "- DC distribution has majority data in around  450 to 700 range with left skewed and has outliers at lower limit"
   ]
  },
  {
   "cell_type": "code",
   "execution_count": 37,
   "id": "9d01d92a",
   "metadata": {},
   "outputs": [
    {
     "data": {
      "image/png": "[encoded data removed]",
      "text/plain": [
       "<Figure size 900x500 with 1 Axes>"
      ]
     },
     "metadata": {},
     "output_type": "display_data"
    }
   ],
   "source": [
    "box3=plt.boxplot(dataset['ISI'])\n",
    "plt.show();"
   ]
  },
  {
   "cell_type": "markdown",
   "id": "76ac8f46",
   "metadata": {},
   "source": [
    "- ISI distribution has majority data in 5 to 10 range outliers on both sides"
   ]
  },
  {
   "cell_type": "markdown",
   "id": "e58c816e",
   "metadata": {},
   "source": [
    "- here one outlier  is too far from distribution so we drop that outlier and for other outlier we use winsorization"
   ]
  },
  {
   "cell_type": "code",
   "execution_count": 38,
   "id": "04be5647",
   "metadata": {},
   "outputs": [
    {
     "data": {
      "image/png": "[encoded data removed]",
      "text/plain": [
       "<Figure size 900x500 with 1 Axes>"
      ]
     },
     "metadata": {},
     "output_type": "display_data"
    }
   ],
   "source": [
    "box6=plt.boxplot(dataset['RH'])\n",
    "plt.show();"
   ]
  },
  {
   "cell_type": "markdown",
   "id": "c1838943",
   "metadata": {},
   "source": [
    "- RH distribution has majority data in around 30 to 50 range with right skewed and has outliers at upper limit"
   ]
  },
  {
   "cell_type": "markdown",
   "id": "2b3d82f8",
   "metadata": {},
   "source": [
    "# Outlier Check"
   ]
  },
  {
   "cell_type": "code",
   "execution_count": 11,
   "id": "f1b0bd3d",
   "metadata": {},
   "outputs": [
    {
     "name": "stderr",
     "output_type": "stream",
     "text": [
      "C:\\Users\\Yash Shinde\\anaconda3\\lib\\site-packages\\seaborn\\_decorators.py:36: FutureWarning: Pass the following variable as a keyword arg: x. From version 0.12, the only valid positional argument will be `data`, and passing other arguments without an explicit keyword will result in an error or misinterpretation.\n",
      "  warnings.warn(\n"
     ]
    },
    {
     "data": {
      "image/png": "[encoded data removed]",
      "text/plain": [
       "<Figure size 640x480 with 1 Axes>"
      ]
     },
     "metadata": {},
     "output_type": "display_data"
    }
   ],
   "source": [
    "ax = sns.boxplot(dataset['area'])"
   ]
  },
  {
   "cell_type": "markdown",
   "id": "ba5d7fc0",
   "metadata": {},
   "source": [
    "### There are 3 Outlier instances in our dataset"
   ]
  },
  {
   "cell_type": "code",
   "execution_count": 12,
   "id": "cc8e122b",
   "metadata": {},
   "outputs": [
    {
     "name": "stdout",
     "output_type": "stream",
     "text": [
      "Skew: 12.846933533934868\n",
      "Kurtosis: 194.1407210942299\n"
     ]
    },
    {
     "data": {
      "image/png": "[encoded data removed]",
      "text/plain": [
       "<Figure size 1600x500 with 1 Axes>"
      ]
     },
     "metadata": {},
     "output_type": "display_data"
    }
   ],
   "source": [
    "plt.rcParams[\"figure.figsize\"] = 9,5\n",
    "plt.figure(figsize=(16,5))\n",
    "print(\"Skew: {}\".format(dataset['area'].skew()))\n",
    "print(\"Kurtosis: {}\".format(dataset['area'].kurtosis()))\n",
    "ax = sns.kdeplot(dataset['area'],shade=True,color='g')\n",
    "plt.xticks([i for i in range(0,1200,50)])\n",
    "plt.show()"
   ]
  },
  {
   "cell_type": "markdown",
   "id": "171e60fb",
   "metadata": {},
   "source": [
    "#### The Data is highly skewed and has large kurtosis value  \n",
    "#### Majority of the forest fires do not cover a large area, most of the damaged area is under 100 hectares of land"
   ]
  },
  {
   "cell_type": "code",
   "execution_count": 13,
   "id": "6c1985ae",
   "metadata": {},
   "outputs": [
    {
     "data": {
      "text/plain": [
       "<AxesSubplot:>"
      ]
     },
     "execution_count": 13,
     "metadata": {},
     "output_type": "execute_result"
    },
    {
     "data": {
      "image/png": "[encoded data removed]",
      "text/plain": [
       "<Figure size 1000x1000 with 2 Axes>"
      ]
     },
     "metadata": {},
     "output_type": "display_data"
    }
   ],
   "source": [
    "corr = dataset[dataset.columns[0:11]].corr()\n",
    "plt.figure(figsize=(10,10))\n",
    "sns.heatmap(corr,annot=True)"
   ]
  },
  {
   "cell_type": "markdown",
   "id": "411e835a",
   "metadata": {},
   "source": [
    "# 3 - Neural Network Model"
   ]
  },
  {
   "cell_type": "markdown",
   "id": "9f98d345",
   "metadata": {},
   "source": [
    "### Encoding categorical data"
   ]
  },
  {
   "cell_type": "markdown",
   "id": "6b3b09cc",
   "metadata": {},
   "source": [
    "Label Encoding the \"size_category\" column"
   ]
  },
  {
   "cell_type": "code",
   "execution_count": 14,
   "id": "f6dfae4a",
   "metadata": {},
   "outputs": [],
   "source": [
    "from sklearn import preprocessing\n",
    "label_encoder=preprocessing.LabelEncoder()\n",
    "dataset['size_category']=label_encoder.fit_transform(dataset['size_category'])"
   ]
  },
  {
   "cell_type": "markdown",
   "id": "e4777b1f",
   "metadata": {},
   "source": [
    "### Splitting the dataset into the Training set and Test set"
   ]
  },
  {
   "cell_type": "code",
   "execution_count": 15,
   "id": "48241960",
   "metadata": {},
   "outputs": [],
   "source": [
    "X = dataset.iloc[:,0:28].values\n",
    "y = dataset.iloc[:,28].values"
   ]
  },
  {
   "cell_type": "code",
   "execution_count": 16,
   "id": "d8fa8363",
   "metadata": {},
   "outputs": [
    {
     "data": {
      "text/plain": [
       "array([[ 86.2,  26.2,  94.3, ...,   0. ,   0. ,   0. ],\n",
       "       [ 90.6,  35.4, 669.1, ...,   0. ,   1. ,   0. ],\n",
       "       [ 90.6,  43.7, 686.9, ...,   0. ,   1. ,   0. ],\n",
       "       ...,\n",
       "       [ 81.6,  56.7, 665.6, ...,   0. ,   0. ,   0. ],\n",
       "       [ 94.4, 146. , 614.7, ...,   0. ,   0. ,   0. ],\n",
       "       [ 79.5,   3. , 106.7, ...,   1. ,   0. ,   0. ]])"
      ]
     },
     "execution_count": 16,
     "metadata": {},
     "output_type": "execute_result"
    }
   ],
   "source": [
    "X"
   ]
  },
  {
   "cell_type": "markdown",
   "id": "5734e6bc",
   "metadata": {},
   "source": [
    "### Feature Scaling"
   ]
  },
  {
   "cell_type": "code",
   "execution_count": 17,
   "id": "0615b448",
   "metadata": {},
   "outputs": [
    {
     "data": {
      "text/plain": [
       "array([[0.07902167, 0.02401819, 0.08644714, ..., 0.        , 0.        ,\n",
       "        0.        ],\n",
       "       [0.08305526, 0.03245206, 0.61338051, ..., 0.        , 0.00091672,\n",
       "        0.        ],\n",
       "       [0.08305526, 0.04006087, 0.62969821, ..., 0.        , 0.00091672,\n",
       "        0.        ],\n",
       "       ...,\n",
       "       [0.07480474, 0.05197829, 0.61017198, ..., 0.        , 0.        ,\n",
       "        0.        ],\n",
       "       [0.08653881, 0.13384181, 0.56351069, ..., 0.        , 0.        ,\n",
       "        0.        ],\n",
       "       [0.07287962, 0.00275017, 0.09781453, ..., 0.00091672, 0.        ,\n",
       "        0.        ]])"
      ]
     },
     "execution_count": 17,
     "metadata": {},
     "output_type": "execute_result"
    }
   ],
   "source": [
    "def norm_func(i):\n",
    "    X = (i-i.min())/(i.max()-i.min())\n",
    "    return (X)\n",
    "X = norm_func(X)\n",
    "X"
   ]
  },
  {
   "cell_type": "code",
   "execution_count": 18,
   "id": "2c78d886",
   "metadata": {},
   "outputs": [],
   "source": [
    "from sklearn.model_selection import train_test_split\n",
    "X_train, X_test, y_train, y_test = train_test_split(X, y, test_size = 0.2, random_state = 0)"
   ]
  },
  {
   "cell_type": "markdown",
   "id": "b7476f7c",
   "metadata": {},
   "source": [
    "# Part 1 - Building the ANN"
   ]
  },
  {
   "cell_type": "markdown",
   "id": "3deabeca",
   "metadata": {},
   "source": [
    "### Initializing the ANN"
   ]
  },
  {
   "cell_type": "code",
   "execution_count": 19,
   "id": "b21034a7",
   "metadata": {},
   "outputs": [],
   "source": [
    "ann = tf.keras.models.Sequential()"
   ]
  },
  {
   "cell_type": "markdown",
   "id": "ba7d07f9",
   "metadata": {},
   "source": [
    "### Adding the input layer and the first hidden layer"
   ]
  },
  {
   "cell_type": "code",
   "execution_count": 20,
   "id": "ccea53ef",
   "metadata": {},
   "outputs": [],
   "source": [
    "ann.add(tf.keras.layers.Dense(units=12,input_dim = 28, activation='relu'))\n",
    "ann.add(tf.keras.layers.Dense(units=8, activation='relu'))\n",
    "ann.add(tf.keras.layers.Dense(units=1, activation='sigmoid'))"
   ]
  },
  {
   "cell_type": "code",
   "execution_count": 21,
   "id": "da085813",
   "metadata": {},
   "outputs": [
    {
     "name": "stdout",
     "output_type": "stream",
     "text": [
      "(None, 12)\n",
      "(None, 8)\n",
      "(None, 1)\n"
     ]
    }
   ],
   "source": [
    "for l in ann.layers:\n",
    "    print (l.output_shape)"
   ]
  },
  {
   "cell_type": "markdown",
   "id": "9d183c09",
   "metadata": {},
   "source": [
    "# Part 2 - Training the ANN"
   ]
  },
  {
   "cell_type": "code",
   "execution_count": 22,
   "id": "bf27659e",
   "metadata": {},
   "outputs": [],
   "source": [
    "ann.compile(optimizer = 'adam', loss = 'binary_crossentropy', metrics = ['accuracy'])"
   ]
  },
  {
   "cell_type": "markdown",
   "id": "283b8535",
   "metadata": {},
   "source": [
    "### Training the ANN on the Training set"
   ]
  },
  {
   "cell_type": "code",
   "execution_count": 23,
   "id": "b77a04f1",
   "metadata": {
    "scrolled": true
   },
   "outputs": [
    {
     "name": "stdout",
     "output_type": "stream",
     "text": [
      "Epoch 1/150\n",
      "14/14 [==============================] - 0s 1ms/step - loss: 0.6882 - accuracy: 0.6223\n",
      "Epoch 2/150\n",
      "14/14 [==============================] - 0s 1ms/step - loss: 0.6707 - accuracy: 0.7385\n",
      "Epoch 3/150\n",
      "14/14 [==============================] - 0s 1ms/step - loss: 0.6571 - accuracy: 0.7361\n",
      "Epoch 4/150\n",
      "14/14 [==============================] - 0s 2ms/step - loss: 0.6427 - accuracy: 0.7361\n",
      "Epoch 5/150\n",
      "14/14 [==============================] - 0s 1ms/step - loss: 0.6285 - accuracy: 0.7361\n",
      "Epoch 6/150\n",
      "14/14 [==============================] - 0s 184us/step - loss: 0.6157 - accuracy: 0.7361\n",
      "Epoch 7/150\n",
      "14/14 [==============================] - 0s 105us/step - loss: 0.6035 - accuracy: 0.7361\n",
      "Epoch 8/150\n",
      "14/14 [==============================] - 0s 1ms/step - loss: 0.5938 - accuracy: 0.7361\n",
      "Epoch 9/150\n",
      "14/14 [==============================] - 0s 1ms/step - loss: 0.5867 - accuracy: 0.7361\n",
      "Epoch 10/150\n",
      "14/14 [==============================] - 0s 1ms/step - loss: 0.5803 - accuracy: 0.7361\n",
      "Epoch 11/150\n",
      "14/14 [==============================] - 0s 915us/step - loss: 0.5768 - accuracy: 0.7361\n",
      "Epoch 12/150\n",
      "14/14 [==============================] - 0s 1ms/step - loss: 0.5756 - accuracy: 0.7361\n",
      "Epoch 13/150\n",
      "14/14 [==============================] - 0s 1ms/step - loss: 0.5722 - accuracy: 0.7361\n",
      "Epoch 14/150\n",
      "14/14 [==============================] - 0s 1ms/step - loss: 0.5710 - accuracy: 0.7361\n",
      "Epoch 15/150\n",
      "14/14 [==============================] - 0s 1ms/step - loss: 0.5701 - accuracy: 0.7361\n",
      "Epoch 16/150\n",
      "14/14 [==============================] - 0s 0s/step - loss: 0.5690 - accuracy: 0.7361\n",
      "Epoch 17/150\n",
      "14/14 [==============================] - 0s 181us/step - loss: 0.5682 - accuracy: 0.7385\n",
      "Epoch 18/150\n",
      "14/14 [==============================] - 0s 539us/step - loss: 0.5673 - accuracy: 0.7385\n",
      "Epoch 19/150\n",
      "14/14 [==============================] - 0s 1ms/step - loss: 0.5669 - accuracy: 0.7385\n",
      "Epoch 20/150\n",
      "14/14 [==============================] - 0s 1ms/step - loss: 0.5664 - accuracy: 0.7385\n",
      "Epoch 21/150\n",
      "14/14 [==============================] - 0s 1ms/step - loss: 0.5643 - accuracy: 0.7385\n",
      "Epoch 22/150\n",
      "14/14 [==============================] - 0s 1ms/step - loss: 0.5634 - accuracy: 0.7385\n",
      "Epoch 23/150\n",
      "14/14 [==============================] - 0s 934us/step - loss: 0.5622 - accuracy: 0.7385\n",
      "Epoch 24/150\n",
      "14/14 [==============================] - 0s 0s/step - loss: 0.5613 - accuracy: 0.7385\n",
      "Epoch 25/150\n",
      "14/14 [==============================] - 0s 1ms/step - loss: 0.5602 - accuracy: 0.7385\n",
      "Epoch 26/150\n",
      "14/14 [==============================] - 0s 1ms/step - loss: 0.5591 - accuracy: 0.7385\n",
      "Epoch 27/150\n",
      "14/14 [==============================] - 0s 1ms/step - loss: 0.5571 - accuracy: 0.7385\n",
      "Epoch 28/150\n",
      "14/14 [==============================] - 0s 1ms/step - loss: 0.5559 - accuracy: 0.7385\n",
      "Epoch 29/150\n",
      "14/14 [==============================] - 0s 1ms/step - loss: 0.5541 - accuracy: 0.7409\n",
      "Epoch 30/150\n",
      "14/14 [==============================] - 0s 1ms/step - loss: 0.5517 - accuracy: 0.7409\n",
      "Epoch 31/150\n",
      "14/14 [==============================] - 0s 361us/step - loss: 0.5493 - accuracy: 0.7409\n",
      "Epoch 32/150\n",
      "14/14 [==============================] - 0s 317us/step - loss: 0.5473 - accuracy: 0.7409\n",
      "Epoch 33/150\n",
      "14/14 [==============================] - 0s 402us/step - loss: 0.5449 - accuracy: 0.7433\n",
      "Epoch 34/150\n",
      "14/14 [==============================] - 0s 416us/step - loss: 0.5423 - accuracy: 0.7458\n",
      "Epoch 35/150\n",
      "14/14 [==============================] - 0s 339us/step - loss: 0.5391 - accuracy: 0.7482\n",
      "Epoch 36/150\n",
      "14/14 [==============================] - 0s 1ms/step - loss: 0.5360 - accuracy: 0.7482\n",
      "Epoch 37/150\n",
      "14/14 [==============================] - 0s 1ms/step - loss: 0.5335 - accuracy: 0.7506\n",
      "Epoch 38/150\n",
      "14/14 [==============================] - 0s 858us/step - loss: 0.5304 - accuracy: 0.7506\n",
      "Epoch 39/150\n",
      "14/14 [==============================] - 0s 110us/step - loss: 0.5275 - accuracy: 0.7506\n",
      "Epoch 40/150\n",
      "14/14 [==============================] - 0s 331us/step - loss: 0.5250 - accuracy: 0.7506\n",
      "Epoch 41/150\n",
      "14/14 [==============================] - 0s 1ms/step - loss: 0.5238 - accuracy: 0.7506\n",
      "Epoch 42/150\n",
      "14/14 [==============================] - 0s 1ms/step - loss: 0.5190 - accuracy: 0.7506\n",
      "Epoch 43/150\n",
      "14/14 [==============================] - 0s 1ms/step - loss: 0.5160 - accuracy: 0.7554\n",
      "Epoch 44/150\n",
      "14/14 [==============================] - 0s 244us/step - loss: 0.5129 - accuracy: 0.7554\n",
      "Epoch 45/150\n",
      "14/14 [==============================] - 0s 364us/step - loss: 0.5109 - accuracy: 0.7579\n",
      "Epoch 46/150\n",
      "14/14 [==============================] - 0s 519us/step - loss: 0.5072 - accuracy: 0.7603\n",
      "Epoch 47/150\n",
      "14/14 [==============================] - 0s 1ms/step - loss: 0.5053 - accuracy: 0.7627\n",
      "Epoch 48/150\n",
      "14/14 [==============================] - 0s 1ms/step - loss: 0.5011 - accuracy: 0.7627\n",
      "Epoch 49/150\n",
      "14/14 [==============================] - 0s 2ms/step - loss: 0.5017 - accuracy: 0.7700\n",
      "Epoch 50/150\n",
      "14/14 [==============================] - 0s 1ms/step - loss: 0.4954 - accuracy: 0.7676\n",
      "Epoch 51/150\n",
      "14/14 [==============================] - 0s 1ms/step - loss: 0.4928 - accuracy: 0.7676\n",
      "Epoch 52/150\n",
      "14/14 [==============================] - 0s 2ms/step - loss: 0.4897 - accuracy: 0.7700\n",
      "Epoch 53/150\n",
      "14/14 [==============================] - 0s 513us/step - loss: 0.4866 - accuracy: 0.7724\n",
      "Epoch 54/150\n",
      "14/14 [==============================] - 0s 2ms/step - loss: 0.4851 - accuracy: 0.7748\n",
      "Epoch 55/150\n",
      "14/14 [==============================] - 0s 1ms/step - loss: 0.4831 - accuracy: 0.7748\n",
      "Epoch 56/150\n",
      "14/14 [==============================] - 0s 1ms/step - loss: 0.4780 - accuracy: 0.7772\n",
      "Epoch 57/150\n",
      "14/14 [==============================] - 0s 1ms/step - loss: 0.4732 - accuracy: 0.7748\n",
      "Epoch 58/150\n",
      "14/14 [==============================] - 0s 873us/step - loss: 0.4703 - accuracy: 0.7748\n",
      "Epoch 59/150\n",
      "14/14 [==============================] - 0s 1ms/step - loss: 0.4668 - accuracy: 0.7821\n",
      "Epoch 60/150\n",
      "14/14 [==============================] - 0s 849us/step - loss: 0.4640 - accuracy: 0.7797\n",
      "Epoch 61/150\n",
      "14/14 [==============================] - 0s 151us/step - loss: 0.4603 - accuracy: 0.7869\n",
      "Epoch 62/150\n",
      "14/14 [==============================] - 0s 289us/step - loss: 0.4582 - accuracy: 0.7893\n",
      "Epoch 63/150\n",
      "14/14 [==============================] - 0s 461us/step - loss: 0.4546 - accuracy: 0.7869\n",
      "Epoch 64/150\n",
      "14/14 [==============================] - 0s 1ms/step - loss: 0.4516 - accuracy: 0.7918\n",
      "Epoch 65/150\n",
      "14/14 [==============================] - 0s 1ms/step - loss: 0.4484 - accuracy: 0.7893\n",
      "Epoch 66/150\n",
      "14/14 [==============================] - 0s 1ms/step - loss: 0.4433 - accuracy: 0.7918\n",
      "Epoch 67/150\n",
      "14/14 [==============================] - 0s 963us/step - loss: 0.4404 - accuracy: 0.7966\n",
      "Epoch 68/150\n",
      "14/14 [==============================] - 0s 774us/step - loss: 0.4369 - accuracy: 0.7918\n",
      "Epoch 69/150\n",
      "14/14 [==============================] - 0s 216us/step - loss: 0.4336 - accuracy: 0.7942\n",
      "Epoch 70/150\n",
      "14/14 [==============================] - 0s 377us/step - loss: 0.4312 - accuracy: 0.8039\n",
      "Epoch 71/150\n",
      "14/14 [==============================] - 0s 967us/step - loss: 0.4302 - accuracy: 0.7966\n",
      "Epoch 72/150\n",
      "14/14 [==============================] - 0s 699us/step - loss: 0.4251 - accuracy: 0.8063\n",
      "Epoch 73/150\n",
      "14/14 [==============================] - 0s 568us/step - loss: 0.4194 - accuracy: 0.8087\n",
      "Epoch 74/150\n",
      "14/14 [==============================] - 0s 532us/step - loss: 0.4178 - accuracy: 0.8039\n",
      "Epoch 75/150\n",
      "14/14 [==============================] - 0s 1ms/step - loss: 0.4130 - accuracy: 0.8087\n",
      "Epoch 76/150\n",
      "14/14 [==============================] - 0s 1ms/step - loss: 0.4112 - accuracy: 0.8184\n",
      "Epoch 77/150\n",
      "14/14 [==============================] - 0s 1ms/step - loss: 0.4090 - accuracy: 0.8136\n",
      "Epoch 78/150\n",
      "14/14 [==============================] - 0s 1ms/step - loss: 0.4044 - accuracy: 0.8111\n",
      "Epoch 79/150\n",
      "14/14 [==============================] - 0s 2ms/step - loss: 0.4007 - accuracy: 0.8208\n",
      "Epoch 80/150\n",
      "14/14 [==============================] - 0s 1ms/step - loss: 0.3984 - accuracy: 0.8257\n",
      "Epoch 81/150\n",
      "14/14 [==============================] - 0s 1ms/step - loss: 0.3935 - accuracy: 0.8232\n",
      "Epoch 82/150\n"
     ]
    },
    {
     "name": "stdout",
     "output_type": "stream",
     "text": [
      "14/14 [==============================] - 0s 1ms/step - loss: 0.3905 - accuracy: 0.8232\n",
      "Epoch 83/150\n",
      "14/14 [==============================] - 0s 997us/step - loss: 0.3873 - accuracy: 0.8257\n",
      "Epoch 84/150\n",
      "14/14 [==============================] - 0s 982us/step - loss: 0.3840 - accuracy: 0.8305\n",
      "Epoch 85/150\n",
      "14/14 [==============================] - 0s 1ms/step - loss: 0.3820 - accuracy: 0.8281\n",
      "Epoch 86/150\n",
      "14/14 [==============================] - 0s 291us/step - loss: 0.3775 - accuracy: 0.8329\n",
      "Epoch 87/150\n",
      "14/14 [==============================] - 0s 100us/step - loss: 0.3751 - accuracy: 0.8329\n",
      "Epoch 88/150\n",
      "14/14 [==============================] - 0s 1ms/step - loss: 0.3723 - accuracy: 0.8281\n",
      "Epoch 89/150\n",
      "14/14 [==============================] - 0s 813us/step - loss: 0.3682 - accuracy: 0.8329\n",
      "Epoch 90/150\n",
      "14/14 [==============================] - 0s 719us/step - loss: 0.3648 - accuracy: 0.8329\n",
      "Epoch 91/150\n",
      "14/14 [==============================] - 0s 193us/step - loss: 0.3635 - accuracy: 0.8402\n",
      "Epoch 92/150\n",
      "14/14 [==============================] - 0s 498us/step - loss: 0.3592 - accuracy: 0.8354\n",
      "Epoch 93/150\n",
      "14/14 [==============================] - 0s 1ms/step - loss: 0.3593 - accuracy: 0.8426\n",
      "Epoch 94/150\n",
      "14/14 [==============================] - 0s 1ms/step - loss: 0.3571 - accuracy: 0.8329\n",
      "Epoch 95/150\n",
      "14/14 [==============================] - 0s 1ms/step - loss: 0.3513 - accuracy: 0.8402\n",
      "Epoch 96/150\n",
      "14/14 [==============================] - 0s 1ms/step - loss: 0.3485 - accuracy: 0.8329\n",
      "Epoch 97/150\n",
      "14/14 [==============================] - 0s 960us/step - loss: 0.3446 - accuracy: 0.8426\n",
      "Epoch 98/150\n",
      "14/14 [==============================] - 0s 894us/step - loss: 0.3404 - accuracy: 0.8426\n",
      "Epoch 99/150\n",
      "14/14 [==============================] - 0s 116us/step - loss: 0.3372 - accuracy: 0.8402\n",
      "Epoch 100/150\n",
      "14/14 [==============================] - 0s 297us/step - loss: 0.3350 - accuracy: 0.8475\n",
      "Epoch 101/150\n",
      "14/14 [==============================] - 0s 213us/step - loss: 0.3326 - accuracy: 0.8426\n",
      "Epoch 102/150\n",
      "14/14 [==============================] - 0s 485us/step - loss: 0.3292 - accuracy: 0.8475\n",
      "Epoch 103/150\n",
      "14/14 [==============================] - 0s 1ms/step - loss: 0.3281 - accuracy: 0.8402\n",
      "Epoch 104/150\n",
      "14/14 [==============================] - 0s 1ms/step - loss: 0.3254 - accuracy: 0.8571\n",
      "Epoch 105/150\n",
      "14/14 [==============================] - 0s 1ms/step - loss: 0.3286 - accuracy: 0.8402\n",
      "Epoch 106/150\n",
      "14/14 [==============================] - 0s 1ms/step - loss: 0.3196 - accuracy: 0.8523\n",
      "Epoch 107/150\n",
      "14/14 [==============================] - 0s 1ms/step - loss: 0.3151 - accuracy: 0.8475\n",
      "Epoch 108/150\n",
      "14/14 [==============================] - 0s 1ms/step - loss: 0.3115 - accuracy: 0.8450\n",
      "Epoch 109/150\n",
      "14/14 [==============================] - 0s 1ms/step - loss: 0.3106 - accuracy: 0.8571\n",
      "Epoch 110/150\n",
      "14/14 [==============================] - 0s 728us/step - loss: 0.3055 - accuracy: 0.8475\n",
      "Epoch 111/150\n",
      "14/14 [==============================] - 0s 1ms/step - loss: 0.3066 - accuracy: 0.8620\n",
      "Epoch 112/150\n",
      "14/14 [==============================] - 0s 1ms/step - loss: 0.3067 - accuracy: 0.8475\n",
      "Epoch 113/150\n",
      "14/14 [==============================] - 0s 1ms/step - loss: 0.2964 - accuracy: 0.8547\n",
      "Epoch 114/150\n",
      "14/14 [==============================] - 0s 988us/step - loss: 0.2950 - accuracy: 0.8547\n",
      "Epoch 115/150\n",
      "14/14 [==============================] - 0s 724us/step - loss: 0.2943 - accuracy: 0.8668\n",
      "Epoch 116/150\n",
      "14/14 [==============================] - 0s 28us/step - loss: 0.2904 - accuracy: 0.8571\n",
      "Epoch 117/150\n",
      "14/14 [==============================] - 0s 887us/step - loss: 0.2881 - accuracy: 0.8668\n",
      "Epoch 118/150\n",
      "14/14 [==============================] - 0s 846us/step - loss: 0.2845 - accuracy: 0.8620\n",
      "Epoch 119/150\n",
      "14/14 [==============================] - 0s 734us/step - loss: 0.2820 - accuracy: 0.8644\n",
      "Epoch 120/150\n",
      "14/14 [==============================] - 0s 1ms/step - loss: 0.2794 - accuracy: 0.8644\n",
      "Epoch 121/150\n",
      "14/14 [==============================] - 0s 815us/step - loss: 0.2774 - accuracy: 0.8717\n",
      "Epoch 122/150\n",
      "14/14 [==============================] - 0s 976us/step - loss: 0.2751 - accuracy: 0.8571\n",
      "Epoch 123/150\n",
      "14/14 [==============================] - 0s 304us/step - loss: 0.2742 - accuracy: 0.8886\n",
      "Epoch 124/150\n",
      "14/14 [==============================] - 0s 1ms/step - loss: 0.2707 - accuracy: 0.8620\n",
      "Epoch 125/150\n",
      "14/14 [==============================] - 0s 1ms/step - loss: 0.2692 - accuracy: 0.8886\n",
      "Epoch 126/150\n",
      "14/14 [==============================] - 0s 1ms/step - loss: 0.2692 - accuracy: 0.8765\n",
      "Epoch 127/150\n",
      "14/14 [==============================] - 0s 867us/step - loss: 0.2618 - accuracy: 0.8741\n",
      "Epoch 128/150\n",
      "14/14 [==============================] - 0s 270us/step - loss: 0.2604 - accuracy: 0.8862\n",
      "Epoch 129/150\n",
      "14/14 [==============================] - 0s 2ms/step - loss: 0.2586 - accuracy: 0.8765\n",
      "Epoch 130/150\n",
      "14/14 [==============================] - 0s 846us/step - loss: 0.2552 - accuracy: 0.8910\n",
      "Epoch 131/150\n",
      "14/14 [==============================] - 0s 769us/step - loss: 0.2533 - accuracy: 0.8789\n",
      "Epoch 132/150\n",
      "14/14 [==============================] - 0s 926us/step - loss: 0.2504 - accuracy: 0.8886\n",
      "Epoch 133/150\n",
      "14/14 [==============================] - 0s 174us/step - loss: 0.2478 - accuracy: 0.8886\n",
      "Epoch 134/150\n",
      "14/14 [==============================] - 0s 910us/step - loss: 0.2475 - accuracy: 0.8814\n",
      "Epoch 135/150\n",
      "14/14 [==============================] - 0s 788us/step - loss: 0.2461 - accuracy: 0.9056\n",
      "Epoch 136/150\n",
      "14/14 [==============================] - 0s 1ms/step - loss: 0.2468 - accuracy: 0.8814\n",
      "Epoch 137/150\n",
      "14/14 [==============================] - 0s 1ms/step - loss: 0.2440 - accuracy: 0.9153\n",
      "Epoch 138/150\n",
      "14/14 [==============================] - 0s 1ms/step - loss: 0.2401 - accuracy: 0.8910\n",
      "Epoch 139/150\n",
      "14/14 [==============================] - 0s 905us/step - loss: 0.2365 - accuracy: 0.9104\n",
      "Epoch 140/150\n",
      "14/14 [==============================] - 0s 220us/step - loss: 0.2337 - accuracy: 0.8959\n",
      "Epoch 141/150\n",
      "14/14 [==============================] - 0s 288us/step - loss: 0.2307 - accuracy: 0.9153\n",
      "Epoch 142/150\n",
      "14/14 [==============================] - 0s 468us/step - loss: 0.2298 - accuracy: 0.8983\n",
      "Epoch 143/150\n",
      "14/14 [==============================] - 0s 703us/step - loss: 0.2282 - accuracy: 0.9104\n",
      "Epoch 144/150\n",
      "14/14 [==============================] - 0s 1ms/step - loss: 0.2263 - accuracy: 0.9104\n",
      "Epoch 145/150\n",
      "14/14 [==============================] - 0s 1ms/step - loss: 0.2232 - accuracy: 0.9056\n",
      "Epoch 146/150\n",
      "14/14 [==============================] - 0s 732us/step - loss: 0.2198 - accuracy: 0.9080\n",
      "Epoch 147/150\n",
      "14/14 [==============================] - 0s 965us/step - loss: 0.2181 - accuracy: 0.9128\n",
      "Epoch 148/150\n",
      "14/14 [==============================] - 0s 907us/step - loss: 0.2157 - accuracy: 0.9128\n",
      "Epoch 149/150\n",
      "14/14 [==============================] - 0s 172us/step - loss: 0.2135 - accuracy: 0.9177\n",
      "Epoch 150/150\n",
      "14/14 [==============================] - 0s 935us/step - loss: 0.2134 - accuracy: 0.9153\n"
     ]
    },
    {
     "data": {
      "text/plain": [
       "<keras.callbacks.History at 0x160083a6c10>"
      ]
     },
     "execution_count": 23,
     "metadata": {},
     "output_type": "execute_result"
    }
   ],
   "source": [
    "ann.fit(X_train, y_train, batch_size = 30, epochs = 150,)"
   ]
  },
  {
   "cell_type": "code",
   "execution_count": 24,
   "id": "abc82e61",
   "metadata": {},
   "outputs": [],
   "source": [
    "y_pred = ann.predict(X_train)"
   ]
  },
  {
   "cell_type": "code",
   "execution_count": 25,
   "id": "835861f1",
   "metadata": {},
   "outputs": [
    {
     "name": "stdout",
     "output_type": "stream",
     "text": [
      "Model: \"sequential\"\n",
      "_________________________________________________________________\n",
      " Layer (type)                Output Shape              Param #   \n",
      "=================================================================\n",
      " dense (Dense)               (None, 12)                348       \n",
      "                                                                 \n",
      " dense_1 (Dense)             (None, 8)                 104       \n",
      "                                                                 \n",
      " dense_2 (Dense)             (None, 1)                 9         \n",
      "                                                                 \n",
      "=================================================================\n",
      "Total params: 461\n",
      "Trainable params: 461\n",
      "Non-trainable params: 0\n",
      "_________________________________________________________________\n"
     ]
    }
   ],
   "source": [
    "ann.summary()"
   ]
  },
  {
   "cell_type": "markdown",
   "id": "94e1d461",
   "metadata": {},
   "source": [
    "# __3 - Conclusion__ "
   ]
  },
  {
   "cell_type": "code",
   "execution_count": 26,
   "id": "dbbb77d8",
   "metadata": {},
   "outputs": [
    {
     "name": "stdout",
     "output_type": "stream",
     "text": [
      "4/4 [==============================] - 0s 1ms/step - loss: 0.2027 - accuracy: 0.9038\n"
     ]
    }
   ],
   "source": [
    "test_score=ann.evaluate(X_test,y_test)"
   ]
  }
 ],
 "metadata": {
  "kernelspec": {
   "display_name": "Python 3 (ipykernel)",
   "language": "python",
   "name": "python3"
  },
  "language_info": {
   "codemirror_mode": {
    "name": "ipython",
    "version": 3
   },
   "file_extension": ".py",
   "mimetype": "text/x-python",
   "name": "python",
   "nbconvert_exporter": "python",
   "pygments_lexer": "ipython3",
   "version": "3.9.13"
  }
 },
 "nbformat": 4,
 "nbformat_minor": 5
}
